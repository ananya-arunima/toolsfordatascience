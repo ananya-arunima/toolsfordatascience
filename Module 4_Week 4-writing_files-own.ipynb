{
  "metadata": {
    "language_info": {
      "codemirror_mode": {
        "name": "python",
        "version": 3
      },
      "file_extension": ".py",
      "mimetype": "text/x-python",
      "name": "python",
      "nbconvert_exporter": "python",
      "pygments_lexer": "ipython3",
      "version": "3.8"
    },
    "kernelspec": {
      "name": "python",
      "display_name": "Pyolite",
      "language": "python"
    }
  },
  "nbformat_minor": 4,
  "nbformat": 4,
  "cells": [
    {
      "cell_type": "code",
      "source": "# Write line to file\nexmp2 = 'Example2.txt'\nwith open(exmp2, 'w') as writefile:\n    writefile.write(\"This is line A\")",
      "metadata": {
        "trusted": true
      },
      "execution_count": 1,
      "outputs": []
    },
    {
      "cell_type": "code",
      "source": "# Read file\n\nwith open(exmp2, 'r') as testwritefile:\n    print(testwritefile.read())",
      "metadata": {
        "trusted": true
      },
      "execution_count": 2,
      "outputs": [
        {
          "name": "stdout",
          "text": "This is line A\n",
          "output_type": "stream"
        }
      ]
    },
    {
      "cell_type": "code",
      "source": "# Write lines to file\n\nwith open(exmp2, 'w') as writefile:\n    writefile.write(\"This is line A\\n\")\n    writefile.write(\"This is line B\\n\")",
      "metadata": {
        "trusted": true
      },
      "execution_count": 3,
      "outputs": []
    },
    {
      "cell_type": "code",
      "source": "# Check whether write to file\n\nwith open(exmp2, 'r') as testwritefile:\n    print(testwritefile.read())",
      "metadata": {
        "trusted": true
      },
      "execution_count": 4,
      "outputs": [
        {
          "name": "stdout",
          "text": "This is line A\nThis is line B\n\n",
          "output_type": "stream"
        }
      ]
    },
    {
      "cell_type": "code",
      "source": "# Sample list of text\n\nLines = [\"This is line A\\n\", \"This is line B\\n\", \"This is line C\\n\"]\nLines",
      "metadata": {
        "trusted": true
      },
      "execution_count": 5,
      "outputs": [
        {
          "execution_count": 5,
          "output_type": "execute_result",
          "data": {
            "text/plain": "['This is line A\\n', 'This is line B\\n', 'This is line C\\n']"
          },
          "metadata": {}
        }
      ]
    },
    {
      "cell_type": "code",
      "source": "# Write the strings in the list to text file\n\nwith open('Example2.txt', 'w') as writefile:\n    for line in Lines:\n        print(line)\n        writefile.write(line)",
      "metadata": {
        "trusted": true
      },
      "execution_count": 6,
      "outputs": [
        {
          "name": "stdout",
          "text": "This is line A\n\nThis is line B\n\nThis is line C\n\n",
          "output_type": "stream"
        }
      ]
    },
    {
      "cell_type": "code",
      "source": "# Verify if writing to file is successfully executed\n\nwith open('Example2.txt', 'r') as testwritefile:\n    print(testwritefile.read())",
      "metadata": {
        "trusted": true
      },
      "execution_count": 7,
      "outputs": [
        {
          "name": "stdout",
          "text": "This is line A\nThis is line B\nThis is line C\n\n",
          "output_type": "stream"
        }
      ]
    },
    {
      "cell_type": "code",
      "source": "# However, note that setting the mode to w overwrites all the existing data in the file.\n\nwith open('Example2.txt', 'w') as writefile:\n    writefile.write(\"Overwrite\\n\")\nwith open('Example2.txt', 'r') as testwritefile:\n    print(testwritefile.read())",
      "metadata": {
        "trusted": true
      },
      "execution_count": 8,
      "outputs": [
        {
          "name": "stdout",
          "text": "Overwrite\n\n",
          "output_type": "stream"
        }
      ]
    },
    {
      "cell_type": "code",
      "source": "# APpending without overwriting/ deleting\n\n# Write a new line to text file\n\nwith open('Example2.txt', 'a') as testwritefile:\n    testwritefile.write(\"This is line C\\n\")\n    testwritefile.write(\"This is line D\\n\")\n    testwritefile.write(\"This is line E\\n\")",
      "metadata": {
        "trusted": true
      },
      "execution_count": 9,
      "outputs": []
    },
    {
      "cell_type": "code",
      "source": "# Verify if the new line is in the text file\n\nwith open('Example2.txt', 'r') as testwritefile:\n    print(testwritefile.read())",
      "metadata": {
        "trusted": true
      },
      "execution_count": 10,
      "outputs": [
        {
          "name": "stdout",
          "text": "Overwrite\nThis is line C\nThis is line D\nThis is line E\n\n",
          "output_type": "stream"
        }
      ]
    },
    {
      "cell_type": "code",
      "source": "with open('Example2.txt', 'a+') as testwritefile:\n    testwritefile.write(\"This is line E\\n\")\n    print(testwritefile.read())",
      "metadata": {
        "trusted": true
      },
      "execution_count": 11,
      "outputs": [
        {
          "name": "stdout",
          "text": "",
          "output_type": "stream"
        },
        {
          "name": "stdout",
          "text": "\n",
          "output_type": "stream"
        }
      ]
    },
    {
      "cell_type": "code",
      "source": "with open('Example2.txt', 'a+') as testwritefile:\n    print(\"Initial Location: {}\".format(testwritefile.tell()))\n    \n    data = testwritefile.read()\n    if (not data):  #empty strings return false in python\n            print('Read nothing') \n    else: \n            print(testwritefile.read())\n            \n    testwritefile.seek(0,0) # move 0 bytes from beginning.\n    \n    print(\"\\nNew Location : {}\".format(testwritefile.tell()))\n    data = testwritefile.read()\n    if (not data): \n            print('Read nothing') \n    else: \n            print(data)\n    \n    print(\"Location after read: {}\".format(testwritefile.tell()) )",
      "metadata": {
        "trusted": true
      },
      "execution_count": 12,
      "outputs": [
        {
          "name": "stdout",
          "text": "Initial Location: 70\nRead nothing\n\nNew Location : 0\nOverwrite\nThis is line C\nThis is line D\nThis is line E\nThis is line E\n\nLocation after read: 70\n",
          "output_type": "stream"
        }
      ]
    },
    {
      "cell_type": "code",
      "source": "with open('Example2.txt', 'r+') as testwritefile:\n    data = testwritefile.readlines()\n    testwritefile.seek(0,0) #write at beginning of file\n   \n    testwritefile.write(\"Line 1\" + \"\\n\")\n    testwritefile.write(\"Line 2\" + \"\\n\")\n    testwritefile.write(\"Line 3\" + \"\\n\")\n    testwritefile.write(\"finished\\n\")\n    #Uncomment the line below\n    #testwritefile.truncate()\n    testwritefile.seek(0,0)\n    print(testwritefile.read())\n    ",
      "metadata": {
        "trusted": true
      },
      "execution_count": 13,
      "outputs": [
        {
          "name": "stdout",
          "text": "Line 1\nLine 2\nLine 3\nfinished\nis line D\nThis is line E\nThis is line E\n\n",
          "output_type": "stream"
        }
      ]
    },
    {
      "cell_type": "code",
      "source": "with open('Example2.txt', 'r+') as testwritefile:\n    data = testwritefile.readlines()\n    testwritefile.seek(0,0) #write at beginning of file\n   \n    testwritefile.write(\"Line 1\" + \"\\n\")\n    testwritefile.write(\"Line 2\" + \"\\n\")\n    testwritefile.write(\"Line 3\" + \"\\n\")\n    testwritefile.write(\"finished\\n\")\n    #Uncomment the line below\n    testwritefile.truncate()\n    testwritefile.seek(0,0)\n    print(testwritefile.read())\n    ",
      "metadata": {
        "trusted": true
      },
      "execution_count": 14,
      "outputs": [
        {
          "name": "stdout",
          "text": "Line 1\nLine 2\nLine 3\nfinished\n\n",
          "output_type": "stream"
        }
      ]
    },
    {
      "cell_type": "code",
      "source": "# copy------------\n\n# Copy file to another\n\nwith open('Example2.txt','r') as readfile:\n    with open('Example3.txt','w') as writefile:\n          for line in readfile:\n                writefile.write(line)",
      "metadata": {
        "trusted": true
      },
      "execution_count": 15,
      "outputs": []
    },
    {
      "cell_type": "code",
      "source": "# Verify if the copy is successfully executed\n\nwith open('Example3.txt','r') as testwritefile:\n    print(testwritefile.read())",
      "metadata": {
        "trusted": true
      },
      "execution_count": 16,
      "outputs": [
        {
          "name": "stdout",
          "text": "Line 1\nLine 2\nLine 3\nfinished\n\n",
          "output_type": "stream"
        }
      ]
    },
    {
      "cell_type": "code",
      "source": "#Run this prior to starting the exercise\nfrom random import randint as rnd\n\nmemReg = 'members.txt'\nexReg = 'inactive.txt'\nfee =('yes','no')\n\ndef genFiles(current,old):\n    with open(current,'w+') as writefile: \n        writefile.write('Membership No  Date Joined  Active  \\n')\n        data = \"{:^13}  {:<11}  {:<6}\\n\"\n\n        for rowno in range(20):\n            date = str(rnd(2015,2020))+ '-' + str(rnd(1,12))+'-'+str(rnd(1,25))\n            writefile.write(data.format(rnd(10000,99999),date,fee[rnd(0,1)]))\n\n\n    with open(old,'w+') as writefile: \n        writefile.write('Membership No  Date Joined  Active  \\n')\n        data = \"{:^13}  {:<11}  {:<6}\\n\"\n        for rowno in range(3):\n            date = str(rnd(2015,2020))+ '-' + str(rnd(1,12))+'-'+str(rnd(1,25))\n            writefile.write(data.format(rnd(10000,99999),date,fee[1]))\n\n\ngenFiles(memReg,exReg)\n",
      "metadata": {
        "trusted": true
      },
      "execution_count": 17,
      "outputs": []
    },
    {
      "cell_type": "code",
      "source": "  \n'''\nThe two arguments for this function are the files:\n    - currentMem: File containing list of current members\n    - exMem: File containing list of old members\n    \n    This function should remove all rows from currentMem containing 'no' \n    in the 'Active' column and appends them to exMem.\n    '''\ndef cleanFiles(currentMem, exMem):\n    # TODO: Open the currentMem file as in r+ mode\n        #TODO: Open the exMem file in a+ mode\n\n        #TODO: Read each member in the currentMem (1 member per row) file into a list.\n        # Hint: Recall that the first line in the file is the header.\n\n        #TODO: iterate through the members and create a new list of the innactive members\n\n        # Go to the beginning of the currentMem file\n        # TODO: Iterate through the members list. \n        # If a member is inactive, add them to exMem, otherwise write them into currentMem\n\n        \n    \n    pass # Remove this line when done implementation\n\n\n# The code below is to help you view the files.\n# Do not modify this code for this exercise.\nmemReg = 'members.txt'\nexReg = 'inactive.txt'\ncleanFiles(memReg,exReg)\n\n\nheaders = \"Membership No  Date Joined  Active  \\n\"\nwith open(memReg,'r') as readFile:\n    print(\"Active Members: \\n\\n\")\n    print(readFile.read())\n    \nwith open(exReg,'r') as readFile:\n    print(\"Inactive Members: \\n\\n\")\n    print(readFile.read())\n                \n    ",
      "metadata": {
        "trusted": true
      },
      "execution_count": 18,
      "outputs": [
        {
          "name": "stdout",
          "text": "Active Members: \n\n\nMembership No  Date Joined  Active  \n    82707      2015-4-9     yes   \n    60967      2016-4-4     yes   \n    75858      2017-1-5     yes   \n    87854      2018-6-17    no    \n    20215      2018-5-25    no    \n    99117      2019-3-5     no    \n    99681      2018-8-3     yes   \n    44676      2018-1-19    yes   \n    84264      2018-6-18    no    \n    26703      2018-10-10   yes   \n    12335      2018-8-25    no    \n    31952      2017-8-19    yes   \n    76741      2019-11-19   no    \n    31617      2020-5-9     no    \n    69466      2018-2-6     no    \n    49092      2018-3-16    no    \n    28818      2017-1-11    no    \n    70787      2018-6-14    yes   \n    26377      2020-4-18    yes   \n    64873      2016-11-7    no    \n\nInactive Members: \n\n\nMembership No  Date Joined  Active  \n    84034      2019-2-14    no    \n    38216      2016-1-15    no    \n    70781      2016-7-10    no    \n\n",
          "output_type": "stream"
        }
      ]
    },
    {
      "cell_type": "code",
      "source": "def testMsg(passed):\n    if passed:\n       return 'Test Passed'\n    else :\n       return 'Test Failed'\n\ntestWrite = \"testWrite.txt\"\ntestAppend = \"testAppend.txt\" \npassed = True\n\ngenFiles(testWrite,testAppend)\n\nwith open(testWrite,'r') as file:\n    ogWrite = file.readlines()\n\nwith open(testAppend,'r') as file:\n    ogAppend = file.readlines()\n\ntry:\n    cleanFiles(testWrite,testAppend)\nexcept:\n    print('Error')\n\nwith open(testWrite,'r') as file:\n    clWrite = file.readlines()\n\nwith open(testAppend,'r') as file:\n    clAppend = file.readlines()\n        \n# checking if total no of rows is same, including headers\n\nif (len(ogWrite) + len(ogAppend) != len(clWrite) + len(clAppend)):\n    print(\"The number of rows do not add up. Make sure your final files have the same header and format.\")\n    passed = False\n    \nfor line in clWrite:\n    if  'no' in line:\n        passed = False\n        print(\"Inactive members in file\")\n        break\n    else:\n        if line not in ogWrite:\n            print(\"Data in file does not match original file\")\n            passed = False\nprint (\"{}\".format(testMsg(passed)))\n    \n\n",
      "metadata": {
        "trusted": true
      },
      "execution_count": 19,
      "outputs": [
        {
          "name": "stdout",
          "text": "Inactive members in file\nTest Failed\n",
          "output_type": "stream"
        }
      ]
    },
    {
      "cell_type": "code",
      "source": "def cleanFiles(currentMem,exMem):\n    with open(currentMem,'r+') as writeFile: \n        with open(exMem,'a+') as appendFile:\n            #get the data\n            writeFile.seek(0)\n            members = writeFile.readlines()\n            #remove header\n            header = members[0]\n            members.pop(0)\n                \n            inactive = [member for member in members if ('no' in member)]\n            '''\n            The above is the same as \n\n            for member in members:\n            if 'no' in member:\n                inactive.append(member)\n            '''\n            #go to the beginning of the write file\n            writeFile.seek(0) \n            writeFile.write(header)\n            for member in members:\n                if (member in inactive):\n                    appendFile.write(member)\n                else:\n                    writeFile.write(member)      \n            writeFile.truncate()\n                \nmemReg = 'members.txt'\nexReg = 'inactive.txt'\ncleanFiles(memReg,exReg)\n\n# code to help you see the files\n\nheaders = \"Membership No  Date Joined  Active  \\n\"\n\nwith open(memReg,'r') as readFile:\n    print(\"Active Members: \\n\\n\")\n    print(readFile.read())\n    \nwith open(exReg,'r') as readFile:\n    print(\"Inactive Members: \\n\\n\")\n    print(readFile.read())",
      "metadata": {
        "trusted": true
      },
      "execution_count": 20,
      "outputs": [
        {
          "name": "stdout",
          "text": "Active Members: \n\n\nMembership No  Date Joined  Active  \n    82707      2015-4-9     yes   \n    60967      2016-4-4     yes   \n    75858      2017-1-5     yes   \n    99681      2018-8-3     yes   \n    44676      2018-1-19    yes   \n    26703      2018-10-10   yes   \n    31952      2017-8-19    yes   \n    70787      2018-6-14    yes   \n    26377      2020-4-18    yes   \n\nInactive Members: \n\n\nMembership No  Date Joined  Active  \n    84034      2019-2-14    no    \n    38216      2016-1-15    no    \n    70781      2016-7-10    no    \n    87854      2018-6-17    no    \n    20215      2018-5-25    no    \n    99117      2019-3-5     no    \n    84264      2018-6-18    no    \n    12335      2018-8-25    no    \n    76741      2019-11-19   no    \n    31617      2020-5-9     no    \n    69466      2018-2-6     no    \n    49092      2018-3-16    no    \n    28818      2017-1-11    no    \n    64873      2016-11-7    no    \n\n",
          "output_type": "stream"
        }
      ]
    },
    {
      "cell_type": "code",
      "source": "def testMsg(passed):\n    if passed:\n       return 'Test Passed'\n    else :\n       return 'Test Failed'\n\ntestWrite = \"testWrite.txt\"\ntestAppend = \"testAppend.txt\" \npassed = True\n\ngenFiles(testWrite,testAppend)\n\nwith open(testWrite,'r') as file:\n    ogWrite = file.readlines()\n\nwith open(testAppend,'r') as file:\n    ogAppend = file.readlines()\n\ntry:\n    cleanFiles(testWrite,testAppend)\nexcept:\n    print('Error')\n\nwith open(testWrite,'r') as file:\n    clWrite = file.readlines()\n\nwith open(testAppend,'r') as file:\n    clAppend = file.readlines()\n        \n# checking if total no of rows is same, including headers\n\nif (len(ogWrite) + len(ogAppend) != len(clWrite) + len(clAppend)):\n    print(\"The number of rows do not add up. Make sure your final files have the same header and format.\")\n    passed = False\n    \nfor line in clWrite:\n    if  'no' in line:\n        passed = False\n        print(\"Inactive members in file\")\n        break\n    else:\n        if line not in ogWrite:\n            print(\"Data in file does not match original file\")\n            passed = False\nprint (\"{}\".format(testMsg(passed)))\n    \n\n",
      "metadata": {
        "trusted": true
      },
      "execution_count": 21,
      "outputs": [
        {
          "name": "stdout",
          "text": "Test Passed\n",
          "output_type": "stream"
        }
      ]
    },
    {
      "cell_type": "code",
      "source": "",
      "metadata": {},
      "execution_count": null,
      "outputs": []
    }
  ]
}