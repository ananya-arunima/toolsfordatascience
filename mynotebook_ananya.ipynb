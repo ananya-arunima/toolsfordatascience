{
 "cells": [
  {
   "cell_type": "markdown",
   "id": "fcb70d87-c2ff-4de6-8d46-3934877f6c39",
   "metadata": {},
   "source": [
    "# My Jupyter Notebook on IBM Watson Studio"
   ]
  },
  {
   "cell_type": "markdown",
   "id": "5d248120-41a3-4c57-8d9f-00ac96c314a9",
   "metadata": {},
   "source": [
    "__Ananya__ <br> Data Scientist"
   ]
  },
  {
   "cell_type": "markdown",
   "id": "51b2ed01-4527-4a52-a572-fbde418ab583",
   "metadata": {},
   "source": [
    "*i am interested in data science because these days mostly we are surrounded by data and technologically driven world is a reality so using data to do predictive analysis could help mankind in numerous ways*"
   ]
  },
  {
   "cell_type": "markdown",
   "id": "ac6203d5-dfaf-458a-97fd-8780915155f4",
   "metadata": {},
   "source": [
    "### the following code was written to perform simple addition arithmetic operation on 2 given numericals"
   ]
  },
  {
   "cell_type": "code",
   "execution_count": 1,
   "id": "f2dc231b-b400-4050-84b1-5034cde1af55",
   "metadata": {},
   "outputs": [
    {
     "data": {
      "text/plain": [
       "6669"
      ]
     },
     "execution_count": 1,
     "metadata": {},
     "output_type": "execute_result"
    }
   ],
   "source": [
    "6324+345"
   ]
  },
  {
   "cell_type": "markdown",
   "id": "90d2f595-924a-47f0-bb55-585c18f59535",
   "metadata": {},
   "source": [
    "***"
   ]
  },
  {
   "cell_type": "markdown",
   "id": "e8897617-7451-4163-a47a-43d2e0ed9314",
   "metadata": {},
   "source": [
    "[click me](http://google.com) <br>\n",
    "- Bulleted item  <br>\n",
    "1. Bulleted item\n"
   ]
  },
  {
   "cell_type": "code",
   "execution_count": null,
   "id": "75a0d149-4b7c-4b89-ac81-e617a37a2601",
   "metadata": {},
   "outputs": [],
   "source": []
  }
 ],
 "metadata": {
  "kernelspec": {
   "display_name": "Python",
   "language": "python",
   "name": "conda-env-python-py"
  },
  "language_info": {
   "codemirror_mode": {
    "name": "ipython",
    "version": 3
   },
   "file_extension": ".py",
   "mimetype": "text/x-python",
   "name": "python",
   "nbconvert_exporter": "python",
   "pygments_lexer": "ipython3",
   "version": "3.7.12"
  }
 },
 "nbformat": 4,
 "nbformat_minor": 5
}
